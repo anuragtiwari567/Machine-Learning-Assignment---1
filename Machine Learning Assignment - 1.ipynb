{
 "cells": [
  {
   "cell_type": "markdown",
   "id": "5309b733-d5a9-41da-be08-bdbac72e6456",
   "metadata": {},
   "source": [
    "## Q1- Explain the following with an example?"
   ]
  },
  {
   "cell_type": "markdown",
   "id": "9ae88f1b-3fe9-4c42-a88b-3c3978a232d7",
   "metadata": {},
   "source": [
    "1) Artificial Intelligence : Artificial Intelligence (AI) refers to the ability of a machine or computer program to perform tasks that typically require human intelligence, \n",
    "                             such as learning, problem-solving, decision-making, perception, and natural language understanding. AI can be implemented in various fields \n",
    "                             such as gaming, robotics, healthcare, and finance.\n",
    "                             Example: An AI-powered virtual assistant, such as Apple's Siri or Amazon's Alexa, can understand voice commands and respond to questions, \n",
    "                             play music, set reminders, and control smart home devices, among other things.\n",
    "                             \n",
    "2) Machine Learning: Machine Learning (ML) is a subset of AI that involves training algorithms on a large dataset to learn from patterns and make predictions without \n",
    "                     being explicitly programmed. ML algorithms can be supervised, unsupervised, or semi-supervised, and they can be used for tasks such as image and \n",
    "                     speech recognition, natural language processing, and recommendation systems.\n",
    "                     Example: A spam filter that learns to distinguish between spam and legitimate emails based on patterns in the content, sender, and subject line.\n",
    "                     \n",
    "3) Deep Learning: Deep Learning (DL) is a subset of ML that uses artificial neural networks with multiple layers to learn from data and make predictions. \n",
    "                  DL algorithms can be used for tasks such as image and speech recognition, natural language processing, and autonomous driving.\n",
    "                  Example: A DL algorithm that can recognize images of different breeds of dogs by learning from millions of labeled images of dogs with different features, \n",
    "                  such as fur color, snout length, and ear shape."
   ]
  },
  {
   "cell_type": "markdown",
   "id": "02b69d68-591a-4af9-8b80-af728835513b",
   "metadata": {},
   "source": [
    "## Q2- What is supervised learning? List some examples of supervised learning."
   ]
  },
  {
   "cell_type": "markdown",
   "id": "fe2ca530-fc3b-4658-a240-fabd3483c03c",
   "metadata": {},
   "source": [
    " Ans: Supervised learning is a type of machine learning where an algorithm is trained on a labeled dataset, meaning the input data has corresponding output data. \n",
    "         The goal is to use this training to make accurate predictions or classifications on new, unlabeled data. \n",
    "         Examples include image recognition, spam filtering, and language translation."
   ]
  },
  {
   "cell_type": "markdown",
   "id": "cfbc5b61-c8d9-4d65-93e7-fbd165969044",
   "metadata": {},
   "source": [
    "## Q3- What is unsupervised learning? List some examples of unsupervised learning."
   ]
  },
  {
   "cell_type": "markdown",
   "id": "1ce1872c-6b94-491d-9f53-acbc4701d6cf",
   "metadata": {},
   "source": [
    "Ans: Unsupervised learning is a type of machine learning where the model learns to identify patterns and relationships in data without being given any specific \n",
    "         guidance or labels. \n",
    "         Examples of unsupervised learning include clustering similar data points, dimensionality reduction, and anomaly detection."
   ]
  },
  {
   "cell_type": "markdown",
   "id": "ba945983-8601-4386-80d0-db8ac44d2be4",
   "metadata": {},
   "source": [
    "## Q4- What is the diffference between AI, ML, DL, and DS?"
   ]
  },
  {
   "cell_type": "markdown",
   "id": "832206fa-bc7f-4398-84a7-8d00607cdd5c",
   "metadata": {},
   "source": [
    " Ans:\n",
    "* AI (Artificial Intelligence) is a broad field that encompasses various techniques and approaches to make machines perform tasks that typically require human \n",
    "         intelligence, such as perception, reasoning, and learning.\n",
    "* ML (Machine Learning) is a subset of AI that involves training algorithms to make predictions or decisions based on data. The focus of ML is on developing \n",
    "         algorithms that can learn and improve from experience without being explicitly programmed.\n",
    "* DL (Deep Learning) is a subset of ML that uses artificial neural networks to learn from large amounts of data. DL algorithms are designed to automatically \n",
    "         extract complex features from raw data and perform tasks such as image recognition, natural language processing, and speech recognition.\n",
    "* DS (Data Science) is a field that involves extracting insights and knowledge from data using various techniques such as statistics, machine learning, \n",
    "         and data visualization. Data scientists use statistical and computational methods to extract meaningful insights and patterns from data and use them \n",
    "         to make informed business decisions."
   ]
  },
  {
   "cell_type": "markdown",
   "id": "4728ba60-5d25-4b41-902b-6566a2f6116b",
   "metadata": {},
   "source": [
    "## Q5- What are the main differences between supervised, unsupervised and semi-supervised learning?"
   ]
  },
  {
   "cell_type": "markdown",
   "id": "c44224dc-194f-4870-a5ef-05d950886813",
   "metadata": {},
   "source": [
    "Ans: \n",
    "* Supervised learning: In supervised learning, the machine learning algorithm is trained on a labeled dataset, where each example in the dataset is associated with a \n",
    "            specific label or output. The algorithm learns to predict the output for new, unseen examples based on the input features provided. \n",
    "            Examples of supervised learning include image classification, sentiment analysis, and speech recognition.\n",
    "* Unsupervised learning: In unsupervised learning, the machine learning algorithm is trained on an unlabeled dataset, where the data has no specific labels or outputs. \n",
    "             The algorithm learns to identify patterns and relationships in the data without any specific guidance. \n",
    "             Examples of unsupervised learning include clustering, dimensionality reduction, and anomaly detection.\n",
    "* Semi-supervised learning: In semi-supervised learning, the machine learning algorithm is trained on a combination of labeled and unlabeled data. \n",
    "             The algorithm learns to use the labeled examples to make predictions and the unlabeled examples to identify patterns and relationships in the data. \n",
    "             Semi-supervised learning is useful when labeled data is scarce or expensive to obtain. \n",
    "             Examples of semi-supervised learning include image and speech recognition.\n",
    "         In summary, supervised learning requires labeled data, unsupervised learning does not require labels, and semi-supervised learning combines both labeled and \n",
    "         unlabeled data."
   ]
  },
  {
   "cell_type": "markdown",
   "id": "4348f726-11fe-46c3-a30c-367d877be3d8",
   "metadata": {},
   "source": [
    "## Q6- What is train, test and validation split? Explain the importance of each term."
   ]
  },
  {
   "cell_type": "markdown",
   "id": "d48fb7bd-eaca-44b7-b7d3-6bbec8ae2f14",
   "metadata": {},
   "source": [
    " Ans: \n",
    "Train, test, and validation split is a technique used in machine learning to divide a dataset into three subsets: a training set, a validation set, and a testing set. \n",
    "         The training set is used to train the model, the validation set is used to evaluate the performance of the model during training, and the testing set is used to \n",
    "         evaluate the final performance of the model after training. This split is important because it helps to prevent overfitting, where the model memorizes the \n",
    "         training data and performs poorly on new data."
   ]
  },
  {
   "cell_type": "markdown",
   "id": "00182458-83ed-40ef-a5dd-0767b44d8ee4",
   "metadata": {},
   "source": [
    "## Q7- How can unsupervised learning be used in anormaly detection?"
   ]
  },
  {
   "cell_type": "markdown",
   "id": "b8ce4b10-d290-4746-bc4d-7f80335e0375",
   "metadata": {},
   "source": [
    "Ans: Unsupervised learning can be used in anomaly detection by training a model to learn the normal patterns in a dataset and then flagging any data that does not \n",
    "         fit those patterns as an anomaly. The model does not need to be explicitly told what an anomaly is, but instead, it identifies patterns that deviate from the \n",
    "         norm on its own. This makes unsupervised learning useful for detecting novel or unknown anomalies in data.\n"
   ]
  },
  {
   "cell_type": "markdown",
   "id": "f53b3464-e437-47fc-834f-38345b9aa517",
   "metadata": {},
   "source": [
    "## Q8- List down some commonly used supervised learning algorithms and unsupervised learning algorithms."
   ]
  },
  {
   "cell_type": "markdown",
   "id": "b9c2c8d4-4007-4c84-837b-346a9cb24780",
   "metadata": {},
   "source": [
    "Ans: \n",
    "* Supervised Learning Algorithms:\n",
    "    - Linear Regression\n",
    "    - Logistic Regression\n",
    "    - Decision Tree\n",
    "    - Random Forest\n",
    "    - Support Vector Machines (SVM)\n",
    "    - K-Nearest Neighbors (KNN)\n",
    "    - Naive Bayes\n",
    "\n",
    "* Unsupervised Learning Algorithms:\n",
    "\n",
    "    - K-Means Clustering\n",
    "     - Hierarchical Clustering\n",
    "      - PCA (Principal Component Analysis)\n",
    "     - Apriori Algorithm\n",
    "     - Anomaly Detection\n",
    "     - Isolation Forest\n",
    "     - Autoencoders."
   ]
  },
  {
   "cell_type": "markdown",
   "id": "d9c5dda4-c9d8-46f9-9802-78c110ffd96e",
   "metadata": {},
   "source": []
  }
 ],
 "metadata": {
  "kernelspec": {
   "display_name": "Python 3 (ipykernel)",
   "language": "python",
   "name": "python3"
  },
  "language_info": {
   "codemirror_mode": {
    "name": "ipython",
    "version": 3
   },
   "file_extension": ".py",
   "mimetype": "text/x-python",
   "name": "python",
   "nbconvert_exporter": "python",
   "pygments_lexer": "ipython3",
   "version": "3.10.8"
  }
 },
 "nbformat": 4,
 "nbformat_minor": 5
}
